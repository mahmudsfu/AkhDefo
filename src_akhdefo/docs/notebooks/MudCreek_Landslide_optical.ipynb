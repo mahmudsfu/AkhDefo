{
 "cells": [
  {
   "cell_type": "markdown",
   "metadata": {},
   "source": [
    "# MudCreek 2017 Landslide Optical Imagery Example"
   ]
  },
  {
   "cell_type": "markdown",
   "metadata": {},
   "source": [
    "## Download data from planet.com website\n",
    "\n",
    "Create an Account or Log In: To access data, you generally need an account with https://www.planet.com . If you don't have one, you'll need to sign up. Otherwise, log in with your existing credentials.\n",
    "\n",
    "\n",
    "![Step 1](./data/mudcreek/optical/planet_screenshot1.png)\n"
   ]
  },
  {
   "cell_type": "markdown",
   "metadata": {},
   "source": [
    "## Import AkhDefo Packages."
   ]
  },
  {
   "cell_type": "code",
   "execution_count": 2,
   "metadata": {},
   "outputs": [],
   "source": [
    "\n",
    "#Functions for data preparations\n",
    "import akhdefo_functions\n",
    "from akhdefo_functions import akhdefo_download_planet\n",
    "from akhdefo_functions import read_data_prep\n",
    "from akhdefo_functions import move_files_with_string\n",
    "from akhdefo_functions import Crop_to_AOI\n",
    "\n",
    "#Functions data processing\n",
    "from akhdefo_functions import scatter_area_mask\n",
    "from akhdefo_functions import Raster_Correction\n",
    "from akhdefo_functions import Optical_flow_akhdefo\n",
    "\n",
    "#Functions for shapefile point data interpolation to raster geotif\n",
    "#Function Autovariogram use Kriging method it fits the data to different variogram models and automatically use the best fit variogram model (Computationally Heavy but you can process data in chunks)\n",
    "from akhdefo_functions import Auto_Variogram\n",
    "\n",
    "# interpoate_xyz uses the following interpolation methods (nearest, linear and cubic)\n",
    "from akhdefo_functions import interpolate_xyz\n",
    "\n",
    "#Functions for data Visualization and Analysis\n",
    "from akhdefo_functions import MeanProducts_plot_ts\n",
    "from akhdefo_functions import plot_stackNetwork\n",
    "from akhdefo_functions import akhdefo_viewer\n",
    "from akhdefo_functions import akhdefo_dashApp"
   ]
  },
  {
   "cell_type": "markdown",
   "metadata": {},
   "source": [
    "## Download Data using Planetlab API Account"
   ]
  },
  {
   "cell_type": "code",
   "execution_count": null,
   "metadata": {},
   "outputs": [],
   "source": [
    "\n",
    "''' \n",
    "\n",
    "First Run the below command and make sure {download=False} to see list of available dataset. \n",
    "\n",
    "Its highly recommended to use data frame same path for the entire time-series for more accurate results\n",
    " \n",
    "'''\n",
    "\n",
    "#uncomment below to download data using planet lab api key\n",
    "\n",
    "''' \n",
    "akhdefo_download_planet(planet_api_key='', AOI='./data/mudcreek/AOI.shp', start_date='May 1, 2018', end_date=' September 30 2022', limit=5, item_type='PSScene',\n",
    "                        product_bundle='analytic_sr_udm2', \n",
    "                        clear_percent=90, cloud_filter=0.1,\n",
    "                        output_folder='raw_data',\n",
    "                        clip_flag=True, download_data=False\n",
    "\n",
    "'''\n",
    "# for this excecise we download data from planet labs explorer web application \n",
    "#Lets Navigate to the zip folder directory\n",
    "\n",
    "import os\n",
    "\n",
    "# Replace 'your_directory_path' with the path of your directory\n",
    "zip_dir = './data/mudcreek/optical/zip_folder/'\n",
    "\n",
    "# List all files and directories in the specified path\n",
    "contents = os.listdir(zip_dir)\n",
    "\n",
    "# Print the contents\n",
    "for item in contents:\n",
    "    print(item)\n",
    "    \n",
    "# The zip folder inside the zip folder directory inclue cropped planet lab imagery between 2018 to 2022. lets extract the data and look at the images"
   ]
  },
  {
   "cell_type": "markdown",
   "metadata": {},
   "source": [
    "## Extract downloaded zip files"
   ]
  },
  {
   "cell_type": "code",
   "execution_count": null,
   "metadata": {},
   "outputs": [],
   "source": [
    "#This functions extracts data from all the granuples zip directory.\n",
    "read_data_prep(zip_dir='./data/mudcreek/optical/zip_dir/',\n",
    "                                 image_dir='./data/mudcreek/optical/image_dir', \n",
    "                                 ext_image_file='harmonized_clip.tif', udm_mask_dir='./data/mudcreek/optical/udm_mask_dir', ext_udm_mask_file='udm2_clip.tif')"
   ]
  },
  {
   "cell_type": "code",
   "execution_count": null,
   "metadata": {},
   "outputs": [],
   "source": [
    "# This function will move all the data from each granules subdir to a single folder\n",
    "# move_files_with_string(source_dir='./data/mudcreek/radar/RS_dir_path129/', dest_dir='./data/mudcreek/radar/RS_path129', search_string='.tif')\n",
    "# move_files_with_string(source_dir='./data/mudcreek/radar/scatter_dir/', dest_dir='./data/mudcreek/radar/scatter_rs', search_string='.tif')\n"
   ]
  },
  {
   "cell_type": "code",
   "execution_count": null,
   "metadata": {},
   "outputs": [],
   "source": [
    "\n",
    "''' \n",
    "Crop all raster to Area of interest bounding box\n",
    "\n",
    "\n",
    "'''\n",
    "Crop_to_AOI(Path_to_WorkingDir='./data/mudcreek/optical/image_dir', \n",
    "                              Path_to_AOI_shapefile='./data/mudcreek/AOI.shp', \n",
    "                              output_CroppedDir='./data/mudcreek/optical/image_dir_aoi', file_ex='.tif')\n",
    "\n"
   ]
  },
  {
   "cell_type": "markdown",
   "metadata": {},
   "source": [
    "## Preparing raster for optical flow and displacement calculation!\n",
    "\n",
    "The data needs to be converted to \"uint8\" format and be calibrated and normalized.\n"
   ]
  },
  {
   "cell_type": "code",
   "execution_count": null,
   "metadata": {},
   "outputs": [],
   "source": [
    "import warnings\n",
    "warnings.filterwarnings(\"ignore\")\n",
    "\n",
    "\n",
    "Raster_Correction(input_path=\"./data/mudcreek/optical/image_dir_aoi\", output_path=\"./data/mudcreek/optical/image_dir_aoi_filt\", limit=None,\n",
    "                                    lowpass_kernel_size=None, bilateral_win_size=7, bilateral_sigma_color=75,\n",
    "                                    bilateral_sigma_spatial=75,\n",
    "                                    clip_percentiles=[2, 98], optical=True, \n",
    "                                    scale=None, Vegetation_mask=None)"
   ]
  },
  {
   "cell_type": "markdown",
   "metadata": {},
   "source": [
    "## Applying optical flow and producing time-series deformation products."
   ]
  },
  {
   "cell_type": "code",
   "execution_count": 3,
   "metadata": {},
   "outputs": [
    {
     "name": "stderr",
     "output_type": "stream",
     "text": [
      "Processing:   6%|▌         | 1/18 [00:00<00:02,  7.30it/s]"
     ]
    },
    {
     "name": "stdout",
     "output_type": "stream",
     "text": [
      "Skipping computation for 20161002 to 20161112 as the time interval is larger than 30 days.\n"
     ]
    },
    {
     "name": "stderr",
     "output_type": "stream",
     "text": [
      "Processing: 100%|██████████| 18/18 [00:21<00:00,  1.20s/it]\n"
     ]
    },
    {
     "name": "stdout",
     "output_type": "stream",
     "text": [
      "Wait for processing to complete writing data into shapefile for timeseries...\n"
     ]
    },
    {
     "name": "stderr",
     "output_type": "stream",
     "text": [
      "Preparing GeoDataFrames: 100%|██████████| 17/17 [00:00<00:00, 535.35it/s]\n",
      "Preparing GeoDataFrames: 100%|██████████| 17/17 [00:00<00:00, 1129.79it/s]\n",
      "Preparing GeoDataFrames: 100%|██████████| 17/17 [00:00<00:00, 662.83it/s]\n",
      "100%|██████████| 17/17 [00:00<00:00, 32.81it/s]          | 0/3 [00:00<?, ?it/s]\n",
      "100%|██████████| 17/17 [00:00<00:00, 42.87it/s]███▎      | 1/3 [00:00<00:01,  1.88it/s]\n",
      "100%|██████████| 17/17 [00:00<00:00, 41.80it/s]██████▋   | 2/3 [00:00<00:00,  2.19it/s]\n",
      "Processing:Updating and Cropping Rasters: 100%|██████████| 3/3 [00:01<00:00,  2.23it/s]\n",
      "Processing: Update Shapefiles :   0%|          | 0/3 [00:00<?, ?it/s]"
     ]
    },
    {
     "name": "stdout",
     "output_type": "stream",
     "text": [
      "processing ./data/mudcreek/optical/geo/temp_shapefile_dir/20161002_20170516_20170516_2DVEL.shp started...  \n",
      "\n",
      "4586\n"
     ]
    },
    {
     "name": "stderr",
     "output_type": "stream",
     "text": [
      "Processing: Update Shapefiles :  33%|███▎      | 1/3 [00:16<00:33, 16.96s/it]"
     ]
    },
    {
     "name": "stdout",
     "output_type": "stream",
     "text": [
      "ReferencePoint x, y: (642346.0654907227, 3970135.759048462), VEL, VEL_STD: (0.6893905222900386, 0.06276629938224848)\n",
      "processing ./data/mudcreek/optical/geo/temp_shapefile_dir/20161002_20170516_20170516_2DVEL.shp completed...  \n",
      "\n",
      "processing ./data/mudcreek/optical/geo/temp_shapefile_dir/20161002_20170516_20170516_N.shp started...  \n",
      "\n",
      "4586\n"
     ]
    },
    {
     "name": "stderr",
     "output_type": "stream",
     "text": [
      "Processing: Update Shapefiles :  67%|██████▋   | 2/3 [00:33<00:16, 16.96s/it]"
     ]
    },
    {
     "name": "stdout",
     "output_type": "stream",
     "text": [
      "ReferencePoint x, y: (642346.0654907227, 3970135.759048462), VEL, VEL_STD: (-0.11316167522956679, 0.04376952197438239)\n",
      "processing ./data/mudcreek/optical/geo/temp_shapefile_dir/20161002_20170516_20170516_N.shp completed...  \n",
      "\n",
      "processing ./data/mudcreek/optical/geo/temp_shapefile_dir/20161002_20170516_20170516_E.shp started...  \n",
      "\n",
      "4586\n"
     ]
    },
    {
     "name": "stderr",
     "output_type": "stream",
     "text": [
      "Processing: Update Shapefiles : 100%|██████████| 3/3 [00:50<00:00, 16.94s/it]"
     ]
    },
    {
     "name": "stdout",
     "output_type": "stream",
     "text": [
      "ReferencePoint x, y: (642346.0654907227, 3970135.759048462), VEL, VEL_STD: (0.15562651959527857, 0.04072348520533432)\n",
      "processing ./data/mudcreek/optical/geo/temp_shapefile_dir/20161002_20170516_20170516_E.shp completed...  \n",
      "\n",
      "Total Days: 226\n",
      "file used ./data/mudcreek/optical/geo/temp_shapefile_dir\\updated_shapefiles\\20161002_20170516_20170516_2DVEL.shp.xml\n"
     ]
    },
    {
     "name": "stderr",
     "output_type": "stream",
     "text": [
      "\n"
     ]
    }
   ],
   "source": [
    "Optical_flow_akhdefo(input_dir='./data/mudcreek/optical/image_dir_aoi_filt', output_dir='./data/mudcreek/optical/geo', AOI='./data/mudcreek/AOI.shp', zscore_threshold=2, \n",
    "                                       ssim_thresh=0.6, image_resolution='3.125m', interpolate='linear', \n",
    "                                       show_figure=False, point_size=2, dem_path='./data/mudcreek/dem.tif', smoothing_kernel_size=None, \n",
    "                                       Vegetation_mask=None, VEL_scale='year', VEL_Mode='linear', good_match_option=0.75, \n",
    "                                       hillshade_option=True, shapefile_output=True, max_triplet_interval=30, pixel_size=100, num_chunks=10, overlap_percentage=0, pyr_scale=0.5, levels=15, \n",
    "                                       winsize=128, iterations=7, poly_n=7, poly_sigma=1.5,\n",
    "                                       flags=1, master_reference='single', \n",
    "                                       selection_Mode='pair', start_date='20160101', end_date='20170518')"
   ]
  },
  {
   "cell_type": "markdown",
   "metadata": {},
   "source": [
    "## Visualize Displacement Products"
   ]
  },
  {
   "cell_type": "code",
   "execution_count": null,
   "metadata": {},
   "outputs": [],
   "source": [
    "#Visualize Mean Velocity East-West\n",
    "# if set batch_plot=True it will plot static time series figure for each date acquisition \n",
    "\n",
    "MeanProducts_plot_ts(path_to_shapefile='./data/mudcreek/optical/geo/temp_shapefile_dir/updated_shapefiles/20161002_20170516_20170516_E.shp', \n",
    "                                       dem_path='./data/mudcreek/dem.tif', out_folder='./data/mudcreek/optical/Figs_analysis/E', \n",
    "                                       color_field=\"VEL\", Set_fig_MinMax=False, \n",
    "                                       MinMaxRange=[0, 1.5], opacity=0.7,\n",
    "                                       cmap='bwr', point_size=10, \n",
    "                                       cbar_label='East-West (m/year)', \n",
    "                                       batch_plot=False)\n",
    "\n",
    "#Visualize Mean Velocity North-South\n",
    "MeanProducts_plot_ts(path_to_shapefile='./data/mudcreek/optical/geo/temp_shapefile_dir/updated_shapefiles/20161002_20170516_20170516_N.shp', \n",
    "                                       dem_path='./data/mudcreek/dem.tif', out_folder='./data/mudcreek/optical/Figs_analysis/N', \n",
    "                                       color_field=\"VEL\", Set_fig_MinMax=False, \n",
    "                                       MinMaxRange=[0, 1.5], opacity=0.7,\n",
    "                                       cmap='bwr', point_size=10, \n",
    "                                       cbar_label='North-South (m/year)', \n",
    "                                       batch_plot=False)\n",
    "\n",
    "#Visualize Mean Velocity 2D Velocity \n",
    "MeanProducts_plot_ts(path_to_shapefile='./data/mudcreek/optical/geo/temp_shapefile_dir/updated_shapefiles/20161002_20170516_20170516_2DVEL.shp', \n",
    "                                       dem_path='./data/mudcreek/dem.tif', out_folder='./data/mudcreek/optical/Figs_analysis/2D', \n",
    "                                       color_field=\"VEL\", Set_fig_MinMax=False, \n",
    "                                       MinMaxRange=[0, 1.5], opacity=0.7,\n",
    "                                       cmap='plasma', point_size=10, \n",
    "                                       cbar_label='2D-VEL (meter/year)', \n",
    "                                       batch_plot=False)"
   ]
  },
  {
   "cell_type": "markdown",
   "metadata": {},
   "source": [
    "## Interactive Time Series Analysis in a Dash Web App\n",
    "\n",
    "This plot is part of an interactive web application. Users have the ability to select groups of data points using either the box select or lasso tool, which are superimposed on a satellite image base map. The selected data will then be reflected in the time series chart. Additionally, users can customize the axis labels to suit their dataset; for example, if the dataset measures displacement or velocity in meters, the y-axis label can be adjusted accordingly from the default mm. Furthermore, users can download their analysis and the generated figures directly from the web application.\n"
   ]
  },
  {
   "cell_type": "markdown",
   "metadata": {},
   "source": [
    "## Screenshot of the dash appp interface"
   ]
  },
  {
   "cell_type": "markdown",
   "metadata": {},
   "source": [
    "![Step 1](./data/mudcreek/optical/screenshot.png)"
   ]
  },
  {
   "cell_type": "markdown",
   "metadata": {},
   "source": [
    "## sample exported analysis from Time-series"
   ]
  },
  {
   "cell_type": "markdown",
   "metadata": {},
   "source": [
    "![dash2d_radar output sample1](./data/mudcreek/optical/2dprofile.png)"
   ]
  },
  {
   "cell_type": "markdown",
   "metadata": {},
   "source": [
    "\n",
    "![dash2d_radar output sample2](./data/mudcreek/optical/2dvelmap.png)"
   ]
  },
  {
   "cell_type": "code",
   "execution_count": null,
   "metadata": {},
   "outputs": [],
   "source": [
    "\n",
    "\n",
    "akhdefo_dashApp(\n",
    "Path_to_Shapefile='./data/mudcreek/optical/geo/temp_shapefile_dir/updated_shapefiles/20161002_20170516_20170516_2DVEL.shp',\n",
    "                                  port=8047, BaseMap=True, basemap_type='image')"
   ]
  },
  {
   "cell_type": "code",
   "execution_count": null,
   "metadata": {},
   "outputs": [],
   "source": [
    "\n",
    "akhdefo_dashApp(\n",
    "Path_to_Shapefile='./data/mudcreek/optical/geo/temp_shapefile_dir/updated_shapefiles/20180627_20220926_20220926_N.shp',\n",
    "                                  port=8056, BaseMap=True, basemap_type='image')"
   ]
  },
  {
   "cell_type": "code",
   "execution_count": null,
   "metadata": {},
   "outputs": [],
   "source": [
    "\n",
    "akhdefo_dashApp(\n",
    "Path_to_Shapefile='./data/mudcreek/optical/geo/temp_shapefile_dir/updated_shapefiles/20180627_20220926_20220926_E.shp',\n",
    "                                  port=8055, BaseMap=True, basemap_type='image')"
   ]
  },
  {
   "cell_type": "markdown",
   "metadata": {},
   "source": [
    "## Kriging Interpolation using Akhdefo workflow"
   ]
  },
  {
   "cell_type": "code",
   "execution_count": null,
   "metadata": {},
   "outputs": [],
   "source": [
    "import akhdefo_functions\n",
    "from akhdefo_functions import Auto_Variogram\n",
    "\n",
    "Auto_Variogram(data='./data/mudcreek/optical/geo/temp_shapefile_dir/updated_shapefiles/20161002_20170516_20170516_N.shp', column_attribute='VEL'\n",
    "               , pixel_size=3, num_chunks=10, out_fileName='N', geo_folder='./2017/VEL_Folder', plot_folder='./data/mudcreek/optical/interpolated_VEL_products'\n",
    "               , smoothing_kernel=2, latlon=False, aoi_shapefile='./data/mudcreek/AOI.shp')\n",
    "\n",
    "\n",
    "Auto_Variogram(data='./data/mudcreek/optical/geo/temp_shapefile_dir/updated_shapefiles/20161002_20170516_20170516_E.shp', column_attribute='VEL'\n",
    "               , pixel_size=3, num_chunks=10, out_fileName='E', geo_folder='./2017/VEL_Folder', plot_folder='./data/mudcreek/optical/interpolated_VEL_products'\n",
    "               , smoothing_kernel=2, latlon=False, aoi_shapefile='./data/mudcreek/AOI.shp')\n",
    "\n",
    "\n",
    "\n",
    "Auto_Variogram(data='./data/mudcreek/optical/geo/temp_shapefile_dir/updated_shapefiles/20161002_20170516_20170516_2DVEL.shp', column_attribute='VEL'\n",
    "               , pixel_size=3, num_chunks=10, out_fileName='2DVEL', geo_folder='./2017/VEL_Folder', plot_folder='./data/mudcreek/optical/interpolated_VEL_products'\n",
    "               , smoothing_kernel=2, latlon=False, aoi_shapefile='./data/mudcreek/AOI.shp')\n"
   ]
  }
 ],
 "metadata": {
  "kernelspec": {
   "display_name": "akhdefov2",
   "language": "python",
   "name": "python3"
  },
  "language_info": {
   "codemirror_mode": {
    "name": "ipython",
    "version": 3
   },
   "file_extension": ".py",
   "mimetype": "text/x-python",
   "name": "python",
   "nbconvert_exporter": "python",
   "pygments_lexer": "ipython3",
   "version": "3.10.11"
  }
 },
 "nbformat": 4,
 "nbformat_minor": 2
}
