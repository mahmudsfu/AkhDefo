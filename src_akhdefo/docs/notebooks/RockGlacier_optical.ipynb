{
 "cells": [
  {
   "cell_type": "markdown",
   "metadata": {},
   "source": [
    "# Morenny Rock Glacier Optical Imagery Example"
   ]
  },
  {
   "cell_type": "markdown",
   "metadata": {},
   "source": [
    "## Download data from planet.com website\n",
    "\n",
    "Create an Account or Log In: To access data, you generally need an account with https://www.planet.com . If you don't have one, you'll need to sign up. Otherwise, log in with your existing credentials.\n",
    "\n",
    "\n",
    "![Step 1](./data/morenny/optical/planet_screenshot1.png)\n"
   ]
  },
  {
   "cell_type": "markdown",
   "metadata": {},
   "source": [
    "## Import AkhDefo Packages."
   ]
  },
  {
   "cell_type": "code",
   "execution_count": null,
   "metadata": {},
   "outputs": [],
   "source": [
    "\n",
    "#Functions for data preparations\n",
    "import akhdefo_functions\n",
    "from akhdefo_functions import akhdefo_download_planet\n",
    "from akhdefo_functions import read_data_prep\n",
    "from akhdefo_functions import move_files_with_string\n",
    "from akhdefo_functions import Crop_to_AOI\n",
    "\n",
    "#Functions data processing\n",
    "from akhdefo_functions import scatter_area_mask\n",
    "from akhdefo_functions import Raster_Correction\n",
    "from akhdefo_functions import Optical_flow_akhdefo\n",
    "\n",
    "#Functions for shapefile point data interpolation to raster geotif\n",
    "#Function Autovariogram use Kriging method it fits the data to different variogram models and automatically use the best fit variogram model (Computationally Heavy but you can process data in chunks)\n",
    "from akhdefo_functions import Auto_Variogram\n",
    "\n",
    "# interpoate_xyz uses the following interpolation methods (nearest, linear and cubic)\n",
    "from akhdefo_functions import interpolate_xyz\n",
    "\n",
    "#Functions for data Visualization and Analysis\n",
    "from akhdefo_functions import MeanProducts_plot_ts\n",
    "from akhdefo_functions import plot_stackNetwork\n",
    "from akhdefo_functions import akhdefo_viewer\n",
    "from akhdefo_functions import akhdefo_dashApp"
   ]
  },
  {
   "cell_type": "markdown",
   "metadata": {},
   "source": [
    "## Download Data using Planetlab API Account"
   ]
  },
  {
   "cell_type": "code",
   "execution_count": null,
   "metadata": {},
   "outputs": [],
   "source": [
    "\n",
    "''' \n",
    "\n",
    "First Run the below command and make sure {download=False} to see list of available dataset. \n",
    "\n",
    "Its highly recommended to use data frame same path for the entire time-series for more accurate results\n",
    " \n",
    "'''\n",
    "\n",
    "#uncomment below to download data using planet lab api key\n",
    "\n",
    "''' \n",
    "akhdefo_download_planet(planet_api_key='', AOI='./data/morenny/AOI.shp', start_date='May 1, 2018', end_date=' September 30 2022', limit=5, item_type='PSScene',\n",
    "                        product_bundle='analytic_sr_udm2', \n",
    "                        clear_percent=90, cloud_filter=0.1,\n",
    "                        output_folder='raw_data',\n",
    "                        clip_flag=True, download_data=False\n",
    "\n",
    "'''\n",
    "# for this excecise we download data from planet labs explorer web application \n",
    "#Lets Navigate to the zip folder directory\n",
    "\n",
    "import os\n",
    "\n",
    "# Replace 'your_directory_path' with the path of your directory\n",
    "zip_dir = './data/morenny/optical/zip_folder/'\n",
    "\n",
    "# List all files and directories in the specified path\n",
    "contents = os.listdir(zip_dir)\n",
    "\n",
    "# Print the contents\n",
    "for item in contents:\n",
    "    print(item)\n",
    "    \n",
    "# The zip folder inside the zip folder directory inclue cropped planet lab imagery between 2018 to 2022. lets extract the data and look at the images"
   ]
  },
  {
   "cell_type": "markdown",
   "metadata": {},
   "source": [
    "## Extract downloaded zip files"
   ]
  },
  {
   "cell_type": "code",
   "execution_count": null,
   "metadata": {},
   "outputs": [],
   "source": [
    "#This functions extracts data from all the granuples zip directory.\n",
    "read_data_prep(zip_dir=zip_dir,\n",
    "                                 image_dir='./data/morenny/optical/image_dir', \n",
    "                                 ext_image_file='_SR_clip.tif', udm_mask_dir='./data/morenny/optical/udm_mask_dir', ext_udm_mask_file='udm2_clip.tif')"
   ]
  },
  {
   "cell_type": "code",
   "execution_count": null,
   "metadata": {},
   "outputs": [],
   "source": [
    "# This function will move all the data from each granules subdir to a single folder\n",
    "# move_files_with_string(source_dir='./data/morenny/optical/RS_dir_path129/', dest_dir='./data/morenny/optical/RS_path129', search_string='.tif')\n",
    "# move_files_with_string(source_dir='./data/morenny/optical/scatter_dir/', dest_dir='./data/morenny/optical/scatter_rs', search_string='.tif')\n"
   ]
  },
  {
   "cell_type": "code",
   "execution_count": null,
   "metadata": {},
   "outputs": [],
   "source": [
    "\n",
    "''' \n",
    "Crop all raster to Area of interest bounding box\n",
    "\n",
    "\n",
    "'''\n",
    "Crop_to_AOI(Path_to_WorkingDir='./data/morenny/optical/image_dir', \n",
    "                              Path_to_AOI_shapefile='./data/morenny/AOI.shp', \n",
    "                              output_CroppedDir='./data/morenny/optical/image_dir_aoi', file_ex='.tif')\n",
    "\n"
   ]
  },
  {
   "cell_type": "markdown",
   "metadata": {},
   "source": [
    "## Preparing raster for optical flow and displacement calculation!\n",
    "\n",
    "The data needs to be converted to \"uint8\" format and be calibrated and normalized.\n"
   ]
  },
  {
   "cell_type": "code",
   "execution_count": null,
   "metadata": {},
   "outputs": [],
   "source": [
    "import warnings\n",
    "warnings.filterwarnings(\"ignore\")\n",
    "\n",
    "\n",
    "Raster_Correction(input_path=\"./data/morenny/optical/image_dir_aoi\", output_path=\"./data/morenny/optical/image_dir_aoi_filt\", limit=None,\n",
    "                                    lowpass_kernel_size=None, bilateral_win_size=7, bilateral_sigma_color=75,\n",
    "                                    bilateral_sigma_spatial=75,\n",
    "                                    clip_percentiles=[2, 98], optical=True, \n",
    "                                    scale=None, Vegetation_mask=None)"
   ]
  },
  {
   "cell_type": "markdown",
   "metadata": {},
   "source": [
    "## Applying optical flow and producing time-series deformation products."
   ]
  },
  {
   "cell_type": "code",
   "execution_count": null,
   "metadata": {},
   "outputs": [],
   "source": [
    "import warnings\n",
    "warnings.filterwarnings(\"ignore\")\n",
    "\n",
    "Optical_flow_akhdefo(input_dir='./data/morenny/optical/image_dir_aoi_filt', output_dir='./data/morenny/optical/geo', AOI='./data/morenny/AOI.shp', zscore_threshold=2, \n",
    "                                       ssim_thresh=0.65, image_resolution='3.125m', interpolate='kriging', \n",
    "                                       show_figure=False, point_size=2, dem_path='./data/morenny/dem.tif', smoothing_kernel_size=2, \n",
    "                                       Vegetation_mask=None, VEL_scale='year', VEL_Mode='linear', good_match_option=0.75, \n",
    "                                       hillshade_option=True, shapefile_output=True, max_triplet_interval=300, pixel_size=10, num_chunks=10, overlap_percentage=0, pyr_scale=0.5, levels=15, \n",
    "                                       winsize=128, iterations=7, poly_n=7, poly_sigma=1.5,\n",
    "                                       flags=1, master_reference='single', \n",
    "                                       selection_Mode='pair', start_date=None, end_date=None, krig_method='universal',spatial_ref=True)"
   ]
  },
  {
   "cell_type": "code",
   "execution_count": 1,
   "metadata": {},
   "outputs": [
    {
     "name": "stderr",
     "output_type": "stream",
     "text": [
      "c:\\Users\\mahmud\\anaconda3\\envs\\akhdefov2\\lib\\site-packages\\gstools\\covmodel\\plot.py:114: UserWarning:\n",
      "\n",
      "Matplotlib is currently using module://matplotlib_inline.backend_inline, which is a non-GUI backend, so cannot show the figure.\n",
      "\n"
     ]
    }
   ],
   "source": [
    "import akhdefo_functions\n",
    "from akhdefo_functions import Auto_Variogram\n",
    "\n",
    "# Auto_Variogram(data='./data/morenny/optical/geo/temp_shapefile_dir/updated_shapefiles/20180627_20220926_20220926_N.shp', column_attribute='VEL'\n",
    "#                , pixel_size=20, num_chunks=1, out_fileName='N', geo_folder='./data/morenny/optical/VEL_Folder', plot_folder='./data/morenny/optical/VEL_Folder'\n",
    "#                , smoothing_kernel=2, latlon=False, aoi_shapefile='./data/morenny/AOI.shp' , krig_method='universal')\n",
    "\n",
    "\n",
    "# Auto_Variogram(data='./data/morenny/optical/geo/temp_shapefile_dir/updated_shapefiles/20180627_20220926_20220926_E.shp', column_attribute='VEL'\n",
    "#                , pixel_size=20, num_chunks=1, out_fileName='E', geo_folder='./data/morenny/optical/VEL_Folder', plot_folder='./data/morenny/optical/VEL_Folder'\n",
    "#                , smoothing_kernel=2, latlon=False, aoi_shapefile='./data/morenny/AOI.shp' , krig_method='universal')\n",
    "\n",
    "\n",
    "\n",
    "# Auto_Variogram(data='./data/morenny/optical/geo/temp_shapefile_dir/updated_shapefiles/20180627_20220926_20220926_2DVEL.shp', column_attribute='VEL'\n",
    "#                , pixel_size=20, num_chunks=1, out_fileName='2DVEL', geo_folder='./data/morenny/optical/VEL_Folder', plot_folder='./data/morenny/optical/VEL_Folder'\n",
    "#                , smoothing_kernel=2, latlon=False, aoi_shapefile='./data/morenny/AOI.shp' , krig_method='universal')\n",
    "\n",
    "\n",
    "\n",
    "Auto_Variogram(data='./data/morenny/optical/geo/temp_shapefile_dir/updated_shapefiles/20180627_20220926_20220926_2DVEL.shp', column_attribute='aspect'\n",
    "               , pixel_size=20, num_chunks=1, out_fileName='aspect', geo_folder='./data/morenny/optical/VEL_Folder', plot_folder='./data/morenny/optical/VEL_Folder'\n",
    "               , smoothing_kernel=2, latlon=False, aoi_shapefile='./data/morenny/AOI.shp' , krig_method='simple')"
   ]
  },
  {
   "cell_type": "markdown",
   "metadata": {},
   "source": [
    "## Visualize Displacement Products"
   ]
  },
  {
   "cell_type": "code",
   "execution_count": null,
   "metadata": {},
   "outputs": [],
   "source": [
    "import akhdefo_functions\n",
    "import cmocean.cm as cmo\n",
    "\n",
    "akhdefo_functions.akhdefo_viewer(path_to_dem_file='./data/morenny/basemap.tif', raster_file='./data/morenny/optical/VEL_Folder/2DVEL.tif', output_folder='./data/morenny/optical/Figs_analysis/', title='2D Velocity with Vector Motion', \n",
    "                   pixel_resolution_meters=None, output_file_name=\"2DVEL_WithVectorMotion.png\", \n",
    "                   alpha=0.4, unit_conversion=None, no_data_mask=True, \n",
    "                   colormap=cmo.thermal\n",
    "                   , min_value=None, max_value=None, \n",
    "                   normalize=True, colorbar_label='meter/year', show_figure=True, aspect_raster='./data/morenny/optical/VEL_Folder/aspect.tif', cmap_aspect=None , step=5)"
   ]
  },
  {
   "cell_type": "code",
   "execution_count": null,
   "metadata": {},
   "outputs": [],
   "source": [
    "#Visualize Mean Velocity East-West\n",
    "# if set batch_plot=True it will plot static time series figure for each date acquisition \n",
    "\n",
    "MeanProducts_plot_ts(path_to_shapefile='./data/morenny/optical/geo/temp_shapefile_dir/updated_shapefiles/20180627_20220926_20220926_E.shp', \n",
    "                                       dem_path='./data/morenny/dem.tif', out_folder='./data/morenny/optical/Figs_analysis/E', \n",
    "                                       color_field=\"VEL\", Set_fig_MinMax=False, \n",
    "                                       MinMaxRange=[0, 1.5], opacity=0.7,\n",
    "                                       cmap='bwr', point_size=10, \n",
    "                                       cbar_label='East-West (m/year)', \n",
    "                                       batch_plot=False)\n",
    "\n",
    "#Visualize Mean Velocity North-South\n",
    "MeanProducts_plot_ts(path_to_shapefile='./data/morenny/optical/geo/temp_shapefile_dir/updated_shapefiles/20180627_20220926_20220926_N.shp', \n",
    "                                       dem_path='./data/morenny/dem.tif', out_folder='./data/morenny/optical/Figs_analysis/N', \n",
    "                                       color_field=\"VEL\", Set_fig_MinMax=False, \n",
    "                                       MinMaxRange=[0, 1.5], opacity=0.7,\n",
    "                                       cmap='bwr', point_size=10, \n",
    "                                       cbar_label='North-South (m/year)', \n",
    "                                       batch_plot=False)\n",
    "\n",
    "#Visualize Mean Velocity 2D Velocity \n",
    "MeanProducts_plot_ts(path_to_shapefile='./data/morenny/optical/geo/temp_shapefile_dir/updated_shapefiles/20180627_20220926_20220926_2DVEL.shp', \n",
    "                                       dem_path='./data/morenny/dem.tif', out_folder='./data/morenny/optical/Figs_analysis/2D', \n",
    "                                       color_field=\"VEL\", Set_fig_MinMax=False, \n",
    "                                       MinMaxRange=[0, 1.5], opacity=0.7,\n",
    "                                       cmap='plasma', point_size=10, \n",
    "                                       cbar_label='2D-VEL (meter/year)', \n",
    "                                       batch_plot=False)"
   ]
  },
  {
   "cell_type": "markdown",
   "metadata": {},
   "source": [
    "## Interactive Time Series Analysis in a Dash Web App\n",
    "\n",
    "This plot is part of an interactive web application. Users have the ability to select groups of data points using either the box select or lasso tool, which are superimposed on a satellite image base map. The selected data will then be reflected in the time series chart. Additionally, users can customize the axis labels to suit their dataset; for example, if the dataset measures displacement or velocity in meters, the y-axis label can be adjusted accordingly from the default mm. Furthermore, users can download their analysis and the generated figures directly from the web application.\n",
    "\n",
    "\n",
    "![Step 1](./data/morenny/optical/dash2d1.png)"
   ]
  },
  {
   "cell_type": "markdown",
   "metadata": {},
   "source": [
    "![dash2d_optical output sample1](./data/morenny/optical/newplot10.png)\n",
    "\n",
    "![dash2d_optical output sample2](./data/morenny/optical/newplot9.png)"
   ]
  },
  {
   "cell_type": "code",
   "execution_count": null,
   "metadata": {},
   "outputs": [],
   "source": [
    "import akhdefo_functions\n",
    "\n",
    "akhdefo_functions.akhdefo_dashApp(\n",
    "Path_to_Shapefile='./data/morenny/optical/geo/temp_shapefile_dir/updated_shapefiles/20180627_20220926_20220926_2DVEL.shp',\n",
    "                                  port=8047, BaseMap=True, basemap_type='image')"
   ]
  },
  {
   "cell_type": "code",
   "execution_count": null,
   "metadata": {},
   "outputs": [],
   "source": [
    "\n",
    "akhdefo_dashApp(\n",
    "Path_to_Shapefile='../data/morenny/optical/geo/temp_shapefile_dir/updated_shapefiles/20180627_20220926_20220926_N.shp',\n",
    "                                  port=8056, BaseMap=True, basemap_type='image')"
   ]
  },
  {
   "cell_type": "code",
   "execution_count": null,
   "metadata": {},
   "outputs": [],
   "source": [
    "\n",
    "akhdefo_dashApp(\n",
    "Path_to_Shapefile='./data/morenny/optical/geo/temp_shapefile_dir/updated_shapefiles/20180627_20220926_20220926_E.shp',\n",
    "                                  port=8055, BaseMap=True, basemap_type='image')"
   ]
  }
 ],
 "metadata": {
  "kernelspec": {
   "display_name": "akhdefov2",
   "language": "python",
   "name": "python3"
  },
  "language_info": {
   "codemirror_mode": {
    "name": "ipython",
    "version": 3
   },
   "file_extension": ".py",
   "mimetype": "text/x-python",
   "name": "python",
   "nbconvert_exporter": "python",
   "pygments_lexer": "ipython3",
   "version": "3.10.11"
  }
 },
 "nbformat": 4,
 "nbformat_minor": 2
}
