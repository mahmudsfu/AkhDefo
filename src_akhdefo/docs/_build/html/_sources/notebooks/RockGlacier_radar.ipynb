{
 "cells": [
  {
   "cell_type": "markdown",
   "metadata": {},
   "source": [
    "# Morenney Rock Glacier Radar Imagery Example"
   ]
  },
  {
   "cell_type": "markdown",
   "metadata": {},
   "source": [
    "## Prepare Data for Bulk Download\n",
    "\n",
    "Akhdefo processes radar imagery that has been corrected for radiometric and terrain distortions. Its function, 'download_RTC,' enables the downloading of Synthetic Aperture Radar (SAR) products from ASF's HyP3 platform. Users can easily order RTC, AutoRIFT, and InSAR products with just a few lines of Python script.\n",
    "Firstly, users are advised to visit [ASF's website](https://search.asf.alaska.edu/#/?maxResults=250) to download metadata for their chosen time-series product granules. To assist users, example screenshots are provided below as a guide to navigate through the process.\n",
    "\n",
    "\n",
    "![Step 1](data/asf1.png)\n",
    "\n",
    "\n",
    "![Step 1](data/asf2.png)"
   ]
  },
  {
   "cell_type": "markdown",
   "metadata": {},
   "source": [
    "## Import AkhDefo Packages."
   ]
  },
  {
   "cell_type": "code",
   "execution_count": 1,
   "metadata": {},
   "outputs": [],
   "source": [
    "\n",
    "#Functions for data preparations\n",
    "import akhdefo_functions\n",
    "from akhdefo_functions import download_RTC\n",
    "from akhdefo_functions import read_data_prep\n",
    "from akhdefo_functions import move_files_with_string\n",
    "from akhdefo_functions import Crop_to_AOI\n",
    "\n",
    "#Functions data processing\n",
    "from akhdefo_functions import scatter_area_mask\n",
    "from akhdefo_functions import Raster_Correction\n",
    "from akhdefo_functions import Optical_flow_akhdefo\n",
    "\n",
    "#Functions for shapefile point data interpolation to raster geotif\n",
    "#Function Autovariogram use Kriging method it fits the data to different variogram models and automatically use the best fit variogram model (Computationally Heavy but you can process data in chunks)\n",
    "from akhdefo_functions import Auto_Variogram\n",
    "\n",
    "# interpoate_xyz uses the following interpolation methods (nearest, linear and cubic)\n",
    "from akhdefo_functions import interpolate_xyz\n",
    "\n",
    "#Functions for data Visualization and Analysis\n",
    "from akhdefo_functions import MeanProducts_plot_ts\n",
    "from akhdefo_functions import plot_stackNetwork\n",
    "from akhdefo_functions import akhdefo_viewer\n",
    "from akhdefo_functions import akhdefo_dashApp"
   ]
  },
  {
   "cell_type": "markdown",
   "metadata": {},
   "source": [
    "## Download Data using EarthData ASF Account"
   ]
  },
  {
   "cell_type": "code",
   "execution_count": null,
   "metadata": {},
   "outputs": [],
   "source": [
    "\n",
    "''' \n",
    "\n",
    "First Run the below command and make sure {download=False} to see the granule paths and frames. \n",
    "\n",
    "Its highly recommended to use data frame same path for the entire time-series for more accurate results\n",
    " \n",
    "'''\n",
    "\n",
    "\n",
    "download_RTC( prompt=True, asf_datapool_results_file= './data/morenny/radar/asf-datapool-results-2023-12-19_04-01-18.csv', \n",
    "            save_dir= './data/morenny/radar/path129', job_name= './data/morenny/radar/RockGlacier_asc', \n",
    "            dem_matching= False, \n",
    "            include_dem= False, \n",
    "            include_inc_map= True, \n",
    "            include_rgb = False, \n",
    "            include_scattering_area= True, \n",
    "            scale = 'power', \n",
    "            resolution = 20, \n",
    "            speckle_filter= False,\n",
    "            radiometry='gamma0',\n",
    "            dem_name='copernicus', limit=None , download=False , path_number=129, RTC=False)"
   ]
  },
  {
   "cell_type": "markdown",
   "metadata": {},
   "source": [
    "## Extract downloaded zip files"
   ]
  },
  {
   "cell_type": "code",
   "execution_count": null,
   "metadata": {},
   "outputs": [],
   "source": [
    "#This functions extracts data from all the granuples zip directory.\n",
    "read_data_prep(zip_dir='./data/morenny/radar/path129_rtc/',\n",
    "                                 image_dir='./data/morenny/radar/RS_dir_path129', \n",
    "                                 ext_image_file='VV.tif', udm_mask_dir='./data/morenny/radar/scatter_dir', ext_udm_mask_file='area.tif')"
   ]
  },
  {
   "cell_type": "code",
   "execution_count": null,
   "metadata": {},
   "outputs": [],
   "source": [
    "# This function will move all the data from each granules subdir to a single folder\n",
    "move_files_with_string(source_dir='./data/morenny/radar/RS_dir_path129/', dest_dir='./data/morenny/radar/RS_path129', search_string='.tif')\n",
    "move_files_with_string(source_dir='./data/morenny/radar/scatter_dir/', dest_dir='./data/morenny/radar/scatter_rs', search_string='.tif')\n"
   ]
  },
  {
   "cell_type": "code",
   "execution_count": null,
   "metadata": {},
   "outputs": [],
   "source": [
    "'''  \n",
    "Optional:\n",
    "\n",
    "Create an accumulated scatter area mask from a set of raster images based on a given threshold. \n",
    "the input dataset is taken from ASF RTC processing.\n",
    "The scattering area for each pixel in the RTC image in square meters. \n",
    "The values are calculated based on the effectively illuminated gamma-0 terrain surface using a digital elevation model,\n",
    "the local incidence angle map, and the layover-shadow map. see detailes \n",
    "at the following website https://hyp3-docs.asf.alaska.edu/guides/rtc_product_guide/#scattering-area-map\n",
    "The function processes each raster image in the input folder, crops it based on the provided AOI from the shapefile,\n",
    "normalizes the cropped raster, and then converts the normalized image to a binary mask based on the scatter_percentageArea_threshold. \n",
    "The binary masks from each raster are then accumulated to generate the final scatter area mask.\n",
    "\n",
    "'''\n",
    "\n",
    "input_folder = \"./data/morenny/radar/scatter_rs\"\n",
    "output_folder = \"./data/morenny/radar/scatter_masks_20\"\n",
    "plot_folder = \"./data/morenny/radar/scatter_mask_plots_20\"\n",
    "shapefile_path = \"./data/morenny/AOI.shp\"\n",
    "scatter_Area_threshold=0\n",
    "vegetation_mask_path=None\n",
    "\n",
    "\n",
    "scatter_area_mask(input_folder, output_folder, plot_folder, shapefile_path, scatter_Area_threshold, vegetation_mask_path)\n",
    "\n"
   ]
  },
  {
   "cell_type": "code",
   "execution_count": 5,
   "metadata": {},
   "outputs": [
    {
     "name": "stderr",
     "output_type": "stream",
     "text": [
      "0it [00:00, ?it/s]\n"
     ]
    }
   ],
   "source": [
    "\n",
    "''' \n",
    "Crop all raster to Area of interest bounding box\n",
    "\n",
    "\n",
    "'''\n",
    "Crop_to_AOI(Path_to_WorkingDir='./data/morenny/radar/RS_path129/', \n",
    "                              Path_to_AOI_shapefile='./data/morenny/AOI.shp', \n",
    "                              output_CroppedDir='./data/morenny/radar/RS_cropped_path129', file_ex='.tif')\n",
    "\n"
   ]
  },
  {
   "cell_type": "code",
   "execution_count": 2,
   "metadata": {},
   "outputs": [
    {
     "name": "stderr",
     "output_type": "stream",
     "text": [
      "Processing images: 100%|██████████| 78/78 [01:10<00:00,  1.11image/s]\n"
     ]
    }
   ],
   "source": [
    "import warnings\n",
    "warnings.filterwarnings(\"ignore\")\n",
    "\n",
    "\n",
    "Raster_Correction(input_path=\"./data/morenny/radar/RS_cropped_path129\", output_path=\"./data/morenny/radar/RS_cropped_path129_filt\", limit=None,\n",
    "                                    lowpass_kernel_size=None, bilateral_win_size=7, bilateral_sigma_color=75,\n",
    "                                    bilateral_sigma_spatial=75,\n",
    "                                    clip_percentiles=[2, 98], optical=False, \n",
    "                                    scale='power', Vegetation_mask=None)"
   ]
  },
  {
   "cell_type": "code",
   "execution_count": 4,
   "metadata": {},
   "outputs": [
    {
     "name": "stderr",
     "output_type": "stream",
     "text": [
      "Processing:   1%|▏         | 1/77 [00:01<01:36,  1.26s/it]"
     ]
    },
    {
     "name": "stdout",
     "output_type": "stream",
     "text": [
      "Skipping computation for 20150717 to 20150903 as the time interval is larger than 30 days.\n",
      "Skipping computation for 20150903 to 20160605 as the time interval is larger than 30 days.\n"
     ]
    },
    {
     "name": "stderr",
     "output_type": "stream",
     "text": [
      "Processing:   9%|▉         | 7/77 [00:05<01:03,  1.10it/s]"
     ]
    },
    {
     "name": "stdout",
     "output_type": "stream",
     "text": [
      "Skipping computation for 20160909 to 20170612 as the time interval is larger than 30 days.\n"
     ]
    },
    {
     "name": "stderr",
     "output_type": "stream",
     "text": [
      "Processing:  22%|██▏       | 17/77 [00:15<01:04,  1.08s/it]"
     ]
    },
    {
     "name": "stdout",
     "output_type": "stream",
     "text": [
      "Skipping computation for 20170928 to 20180607 as the time interval is larger than 30 days.\n"
     ]
    },
    {
     "name": "stderr",
     "output_type": "stream",
     "text": [
      "Processing:  35%|███▌      | 27/77 [00:27<01:14,  1.48s/it]"
     ]
    },
    {
     "name": "stdout",
     "output_type": "stream",
     "text": [
      "Skipping computation for 20180923 to 20190602 as the time interval is larger than 30 days.\n"
     ]
    },
    {
     "name": "stderr",
     "output_type": "stream",
     "text": [
      "Processing:  49%|████▉     | 38/77 [00:38<00:41,  1.06s/it]"
     ]
    },
    {
     "name": "stdout",
     "output_type": "stream",
     "text": [
      "Skipping computation for 20190930 to 20200608 as the time interval is larger than 30 days.\n"
     ]
    },
    {
     "name": "stderr",
     "output_type": "stream",
     "text": [
      "Processing:  62%|██████▏   | 48/77 [00:48<00:30,  1.06s/it]"
     ]
    },
    {
     "name": "stdout",
     "output_type": "stream",
     "text": [
      "Skipping computation for 20200924 to 20210603 as the time interval is larger than 30 days.\n"
     ]
    },
    {
     "name": "stderr",
     "output_type": "stream",
     "text": [
      "Processing:  74%|███████▍  | 57/77 [00:57<00:23,  1.15s/it]"
     ]
    },
    {
     "name": "stdout",
     "output_type": "stream",
     "text": [
      "Skipping computation for 20210919 to 20220610 as the time interval is larger than 30 days.\n"
     ]
    },
    {
     "name": "stderr",
     "output_type": "stream",
     "text": [
      "Processing:  87%|████████▋ | 67/77 [01:07<00:10,  1.08s/it]"
     ]
    },
    {
     "name": "stdout",
     "output_type": "stream",
     "text": [
      "Skipping computation for 20220926 to 20230605 as the time interval is larger than 30 days.\n"
     ]
    },
    {
     "name": "stderr",
     "output_type": "stream",
     "text": [
      "Processing: 100%|██████████| 77/77 [01:17<00:00,  1.01s/it]\n"
     ]
    },
    {
     "name": "stdout",
     "output_type": "stream",
     "text": [
      "Wait for processing to complete writing data into shapefile for timeseries...\n"
     ]
    },
    {
     "name": "stderr",
     "output_type": "stream",
     "text": [
      "Preparing GeoDataFrames: 100%|██████████| 68/68 [00:00<00:00, 938.65it/s]\n",
      "Preparing GeoDataFrames: 100%|██████████| 68/68 [00:00<00:00, 1021.48it/s]\n",
      "Preparing GeoDataFrames: 100%|██████████| 68/68 [00:00<00:00, 984.15it/s]\n",
      "100%|██████████| 68/68 [00:02<00:00, 31.14it/s]          | 0/3 [00:00<?, ?it/s]\n",
      "100%|██████████| 68/68 [00:02<00:00, 31.30it/s]███▎      | 1/3 [00:02<00:04,  2.19s/it]\n",
      "100%|██████████| 68/68 [00:02<00:00, 31.22it/s]██████▋   | 2/3 [00:04<00:02,  2.18s/it]\n",
      "Processing:Updating and Cropping Rasters: 100%|██████████| 3/3 [00:06<00:00,  2.18s/it]\n",
      "Processing: Update Shapefiles :   0%|          | 0/3 [00:00<?, ?it/s]"
     ]
    },
    {
     "name": "stdout",
     "output_type": "stream",
     "text": [
      "processing geo_path129/temp_shapefile_dir/20150623_20230921_20230921_2DVEL.shp started...  \n",
      "\n",
      "best match 571\n",
      "571\n"
     ]
    },
    {
     "name": "stderr",
     "output_type": "stream",
     "text": [
      "Processing: Update Shapefiles :  33%|███▎      | 1/3 [00:14<00:29, 14.53s/it]"
     ]
    },
    {
     "name": "stdout",
     "output_type": "stream",
     "text": [
      "ReferencePoint x, y: (662340.5187988281, 4762192.402801514), VEL, VEL_STD: (0.4157828553367713, 0.025150325271425335)\n",
      "processing geo_path129/temp_shapefile_dir/20150623_20230921_20230921_2DVEL.shp completed...  \n",
      "\n",
      "processing geo_path129/temp_shapefile_dir/20150623_20230921_20230921_N.shp started...  \n",
      "\n",
      "571\n"
     ]
    },
    {
     "name": "stderr",
     "output_type": "stream",
     "text": [
      "Processing: Update Shapefiles :  67%|██████▋   | 2/3 [00:29<00:14, 14.53s/it]"
     ]
    },
    {
     "name": "stdout",
     "output_type": "stream",
     "text": [
      "ReferencePoint x, y: (662340.5187988281, 4762192.402801514), VEL, VEL_STD: (0.05780702361658835, 0.011082207690007652)\n",
      "processing geo_path129/temp_shapefile_dir/20150623_20230921_20230921_N.shp completed...  \n",
      "\n",
      "processing geo_path129/temp_shapefile_dir/20150623_20230921_20230921_E.shp started...  \n",
      "\n",
      "571\n"
     ]
    },
    {
     "name": "stderr",
     "output_type": "stream",
     "text": [
      "Processing: Update Shapefiles : 100%|██████████| 3/3 [00:43<00:00, 14.52s/it]"
     ]
    },
    {
     "name": "stdout",
     "output_type": "stream",
     "text": [
      "ReferencePoint x, y: (662340.5187988281, 4762192.402801514), VEL, VEL_STD: (-0.08806014301128967, 0.006105641359759221)\n",
      "processing geo_path129/temp_shapefile_dir/20150623_20230921_20230921_E.shp completed...  \n",
      "\n",
      "Total Days: 3012\n",
      "file used geo_path129/temp_shapefile_dir\\updated_shapefiles\\20150623_20230921_20230921_2DVEL.shp.xml\n"
     ]
    },
    {
     "name": "stderr",
     "output_type": "stream",
     "text": [
      "\n"
     ]
    }
   ],
   "source": [
    "Optical_flow_akhdefo(input_dir='./data/morenny/radar/RS_cropped_path129_filt', output_dir='./data/morenny/radar/geo_path129', AOI='./data/morenny/AOI.shp', zscore_threshold=2, \n",
    "                                       ssim_thresh=0.65, image_resolution='20m', interpolate='linear', \n",
    "                                       show_figure=False, point_size=2, dem_path='./data/morenny/dem.tif', smoothing_kernel_size=None, \n",
    "                                       Vegetation_mask=None, VEL_scale='year', VEL_Mode='linear', good_match_option=0.75, \n",
    "                                       hillshade_option=True, shapefile_output=True, max_triplet_interval=30, pixel_size=100, num_chunks=10, overlap_percentage=0, pyr_scale=0.5, levels=15, \n",
    "                                       winsize=128, iterations=7, poly_n=7, poly_sigma=1.5,\n",
    "                                       flags=1, master_reference='single', \n",
    "                                       selection_Mode='pair', start_date=None, end_date=None)"
   ]
  },
  {
   "cell_type": "code",
   "execution_count": 6,
   "metadata": {},
   "outputs": [
    {
     "data": {
      "text/html": [
       "\n",
       "        <iframe\n",
       "            width=\"100%\"\n",
       "            height=\"650\"\n",
       "            src=\"http://127.0.0.1:8057/\"\n",
       "            frameborder=\"0\"\n",
       "            allowfullscreen\n",
       "            \n",
       "        ></iframe>\n",
       "        "
      ],
      "text/plain": [
       "<IPython.lib.display.IFrame at 0x223d722db10>"
      ]
     },
     "metadata": {},
     "output_type": "display_data"
    }
   ],
   "source": [
    "akhdefo_dashApp(\n",
    "Path_to_Shapefile='./data/morenny/radar/geo_path129/temp_shapefile_dir/updated_shapefiles/20150623_20230921_20230921_2DVEL.shp',\n",
    "                                  port=8057, BaseMap=True, basemap_type='image')"
   ]
  }
 ],
 "metadata": {
  "kernelspec": {
   "display_name": "akhdefov2",
   "language": "python",
   "name": "python3"
  },
  "language_info": {
   "codemirror_mode": {
    "name": "ipython",
    "version": 3
   },
   "file_extension": ".py",
   "mimetype": "text/x-python",
   "name": "python",
   "nbconvert_exporter": "python",
   "pygments_lexer": "ipython3",
   "version": "3.10.11"
  }
 },
 "nbformat": 4,
 "nbformat_minor": 2
}
